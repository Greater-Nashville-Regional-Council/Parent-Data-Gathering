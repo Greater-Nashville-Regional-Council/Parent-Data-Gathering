{
 "cells": [
  {
   "cell_type": "markdown",
   "id": "8a629139",
   "metadata": {},
   "source": [
    "# Geo Files for All Geographies"
   ]
  },
  {
   "cell_type": "code",
   "execution_count": 1,
   "id": "64e2b650",
   "metadata": {},
   "outputs": [],
   "source": [
    "import pandas as pd\n",
    "import numpy as np\n",
    "import requests\n",
    "import geopandas as gpd\n",
    "pd.set_option('display.max_columns', None)\n",
    "pd.set_option('display.max_rows', None)\n",
    "pd.set_option('display.width', 150)\n",
    "from warnings import simplefilter\n",
    "simplefilter(action=\"ignore\", category=pd.errors.PerformanceWarning)"
   ]
  },
  {
   "cell_type": "code",
   "execution_count": 2,
   "id": "e0e63654",
   "metadata": {},
   "outputs": [],
   "source": [
    "tncounty = ['47111', #Macon\n",
    "            '47161', #Stewart\n",
    "            '47125', #Montgomery\n",
    "            '47083', #Houston\n",
    "            '47085', #Humphreys\n",
    "            '47043', #Dickson\n",
    "            '47021', #Cheatham\n",
    "            '47147', #Robertson\n",
    "            '47165', #Sumner\n",
    "            '47037', #Davidson\n",
    "            '47189', #Wilson\n",
    "            '47169', #Trousdale\n",
    "            '47187', #Williamson\n",
    "            '47149', #Rutherford\n",
    "            '47119'] #Maury\n",
    "kycounty = ['21003', #Allen, KY\n",
    "            '21213'] #Simpson, KY"
   ]
  },
  {
   "cell_type": "code",
   "execution_count": 3,
   "id": "fd1240f4",
   "metadata": {},
   "outputs": [],
   "source": [
    "tnplac = ['4702180', #Ashland City: Cheatham\n",
    "          '4739660', #Kingston Springs: Cheatham\n",
    "          '4757480', #Pegram: Cheatham\n",
    "          '4759560', #Pleasant View: Cheatham\n",
    "          '4704620', #Belle Meade: Davidson\n",
    "          '4705140', #Berry Hill: Davidson\n",
    "          '4727020', #Forest Hills: Davidson\n",
    "          '4729920', #Goodlettsville: Davidson/Sumner\n",
    "          '4752006', #Nashville-Davidson metropolitan government (balance): Davidson\n",
    "          '4754780', #Oak Hill: Davidson\n",
    "          '4763140', #Ridgetop: Davidson/Robertson\n",
    "          '4709880', #Burns: Dickson\n",
    "          '4713080', #Charlotte: Dickson\n",
    "          '4720620', #Dickson: Dickson\n",
    "          '4769080', #Slayden: Dickson\n",
    "          '4776860', #Vanleer: Dickson\n",
    "          '4779980', #White Bluff: Dickson\n",
    "          '4724320', #Erin: Houston\n",
    "          '4773460', #Tennessee Ridge: Houston/Stewart\n",
    "          '4744840', #McEwen: Humphreys\n",
    "          '4752820', #New Johnsonville: Humphreys\n",
    "          '4778560', #Waverly: Humphreys\n",
    "          '4716540', #Columbia: Maury\n",
    "          '4751080', #Mount Pleasant: Maury\n",
    "          '4770580', #Spring Hill: Maury/Williamson\n",
    "          '4715160', #Clarksville: Montgomery\n",
    "          '4700200', #Adams: Robertson\n",
    "          '4711980', #Cedar Hill: Robertson\n",
    "          '4716980', #Coopertown: Robertson\n",
    "          '4718420', #Cross Plains: Robertson\n",
    "          '4730960', #Greenbrier: Robertson\n",
    "          '4748980', #Millersville: Robertson/Sumner\n",
    "          '4760280', #Portland: Robertson/Sumner\n",
    "          '4770500', #Springfield: Robertson\n",
    "          '4780200', #White House: Robertson/Sumner\n",
    "          '4722360', #Eagleville: Rutherford\n",
    "          '4741200', #La Vergne: Rutherford\n",
    "          '4751560', #Murfreesboro: Rutherford\n",
    "          '4769420', #Smyrna: Rutherford\n",
    "          '4718820', #Cumberland City: Stewart\n",
    "          '4721400', #Dover: Stewart\n",
    "          '4728540', #Gallatin: Sumner\n",
    "          '4733280', #Hendersonville: Sumner\n",
    "          '4779420', #Westmoreland: Sumner\n",
    "          '4708280', #Brentwood: Williamson\n",
    "          '4725440', #Fairview: Williamson\n",
    "          '4727740', #Franklin: Williamson\n",
    "          '4753460', #Nolensville: Williamson\n",
    "          '4773900', #Thompson's Station: Williamson\n",
    "          '4741520', #Lebanon: Wilson\n",
    "          '4750780', #Mount Juliet: Wilson\n",
    "          '4778320', #Watertown: Wilson\n",
    "          '4740160', #Lafayette: Macon\n",
    "          '4749460'] #Mitchelville city: Sumner\n",
    "kyplac = ['2169114', #Scottsville city, Kentucky\n",
    "          '2128918'] #Franklin city, Kentucky"
   ]
  },
  {
   "cell_type": "markdown",
   "id": "b9d1da7e",
   "metadata": {},
   "source": [
    "# 2020"
   ]
  },
  {
   "cell_type": "markdown",
   "id": "2a040000",
   "metadata": {},
   "source": [
    "STATE 2020"
   ]
  },
  {
   "cell_type": "code",
   "execution_count": 4,
   "id": "546b1912",
   "metadata": {},
   "outputs": [
    {
     "name": "stdout",
     "output_type": "stream",
     "text": [
      "Your geographic file is ready.\n"
     ]
    }
   ],
   "source": [
    "url = 'https://www2.census.gov/geo/tiger/TIGER2020/STATE/tl_2020_us_state.zip'\n",
    "geo = gpd.read_file(url)\n",
    "print('Your geographic file is ready.')"
   ]
  },
  {
   "cell_type": "code",
   "execution_count": 5,
   "id": "82d2eda0",
   "metadata": {},
   "outputs": [],
   "source": [
    "tn = geo.loc[geo['GEOID'] == '47']\n",
    "tn = tn.drop(columns = ['REGION', 'DIVISION', 'STATEFP', 'STATENS', 'STUSPS', 'LSAD',\n",
    "                        'MTFCC', 'FUNCSTAT', 'AWATER', 'INTPTLAT', 'INTPTLON'])\n",
    "tn = tn.rename(columns = {'GEOID':'GEO_ID'})\n",
    "tn['GEO_ID'] = '0400000US' + tn['GEO_ID']"
   ]
  },
  {
   "cell_type": "markdown",
   "id": "6989209d",
   "metadata": {},
   "source": [
    "COUNTIES 2020"
   ]
  },
  {
   "cell_type": "code",
   "execution_count": 6,
   "id": "83ec1af8",
   "metadata": {},
   "outputs": [
    {
     "name": "stdout",
     "output_type": "stream",
     "text": [
      "Your geographic file is ready.\n"
     ]
    }
   ],
   "source": [
    "url = 'https://www2.census.gov/geo/tiger/TIGER2020/COUNTY/tl_2020_us_county.zip'\n",
    "geo = gpd.read_file(url)\n",
    "print('Your geographic file is ready.')"
   ]
  },
  {
   "cell_type": "code",
   "execution_count": 8,
   "id": "ab7f735f",
   "metadata": {},
   "outputs": [],
   "source": [
    "tncounties = geo.loc[geo['GEOID'].isin(tncounty)]\n",
    "tncounties = tncounties.drop(columns = ['STATEFP', 'COUNTYFP', 'COUNTYNS', 'NAME', 'LSAD', 'CLASSFP',\n",
    "                                        'MTFCC', 'CSAFP', 'CBSAFP', 'METDIVFP', 'FUNCSTAT', 'AWATER', 'INTPTLAT', 'INTPTLON'])\n",
    "tncounties = tncounties.rename(columns = {'GEOID':'GEO_ID', 'NAMELSAD':'NAME'})\n",
    "tncounties['NAME'] = tncounties['NAME'] + ', Tennessee'\n",
    "tncounties['GEO_ID'] = '0500000US' + tncounties['GEO_ID']"
   ]
  },
  {
   "cell_type": "code",
   "execution_count": 9,
   "id": "9e9322b1",
   "metadata": {},
   "outputs": [],
   "source": [
    "kycounties = geo.loc[geo['GEOID'].isin(kycounty)]\n",
    "kycounties = kycounties.drop(columns = ['STATEFP', 'COUNTYFP', 'COUNTYNS', 'NAME', 'LSAD', 'CLASSFP',\n",
    "                                        'MTFCC', 'CSAFP', 'CBSAFP', 'METDIVFP', 'FUNCSTAT', 'AWATER', 'INTPTLAT', 'INTPTLON'])\n",
    "kycounties = kycounties.rename(columns = {'GEOID':'GEO_ID', 'NAMELSAD':'NAME'})\n",
    "kycounties['NAME'] = kycounties['NAME'] + ', Kentucky'\n",
    "kycounties['GEO_ID'] = '0500000US' + kycounties['GEO_ID']"
   ]
  },
  {
   "cell_type": "markdown",
   "id": "00762569",
   "metadata": {},
   "source": [
    "PLACES 2020"
   ]
  },
  {
   "cell_type": "code",
   "execution_count": 10,
   "id": "6bb19a3e",
   "metadata": {},
   "outputs": [
    {
     "name": "stdout",
     "output_type": "stream",
     "text": [
      "Your geographic file is ready.\n"
     ]
    }
   ],
   "source": [
    "#Tennessee Places\n",
    "url= 'https://www2.census.gov/geo/tiger/TIGER2020/PLACE/tl_2020_47_place.zip'\n",
    "geo = gpd.read_file(url)\n",
    "print('Your geographic file is ready.')"
   ]
  },
  {
   "cell_type": "code",
   "execution_count": 11,
   "id": "ee2c68a9",
   "metadata": {},
   "outputs": [],
   "source": [
    "tnplaces = geo.loc[geo['GEOID'].isin(tnplac)]\n",
    "tnplaces = tnplaces.drop(columns = ['STATEFP', 'PLACEFP', 'PLACENS', 'NAME', 'LSAD', 'CLASSFP',\n",
    "                          'PCICBSA', 'PCINECTA', 'MTFCC', 'FUNCSTAT', 'AWATER', 'INTPTLAT', 'INTPTLON'])\n",
    "tnplaces = tnplaces.rename(columns = {'GEOID':'GEO_ID', 'NAMELSAD':'NAME'})\n",
    "tnplaces['NAME'] = tnplaces['NAME'] + ', Tennessee'\n",
    "tnplaces['GEO_ID'] = '1600000US' + tnplaces['GEO_ID']"
   ]
  },
  {
   "cell_type": "code",
   "execution_count": 12,
   "id": "a8eeaa58",
   "metadata": {},
   "outputs": [
    {
     "name": "stdout",
     "output_type": "stream",
     "text": [
      "Your geographic file is ready.\n"
     ]
    }
   ],
   "source": [
    "#Kentucky Places\n",
    "url= 'https://www2.census.gov/geo/tiger/TIGER2020/PLACE/tl_2020_21_place.zip'\n",
    "geo = gpd.read_file(url)\n",
    "print('Your geographic file is ready.')"
   ]
  },
  {
   "cell_type": "code",
   "execution_count": 13,
   "id": "98771598",
   "metadata": {},
   "outputs": [],
   "source": [
    "kyplaces = geo.loc[geo['GEOID'].isin(kyplac)]\n",
    "kyplaces = kyplaces.drop(columns = ['STATEFP', 'PLACEFP', 'PLACENS', 'NAME', 'LSAD', 'CLASSFP',\n",
    "                          'PCICBSA', 'PCINECTA', 'MTFCC', 'FUNCSTAT', 'AWATER', 'INTPTLAT', 'INTPTLON'])\n",
    "kyplaces = kyplaces.rename(columns = {'GEOID':'GEO_ID', 'NAMELSAD':'NAME'})\n",
    "kyplaces['NAME'] = kyplaces['NAME'] + ', Kentucky'\n",
    "kyplaces['GEO_ID'] = '1600000US' + kyplaces['GEO_ID']"
   ]
  },
  {
   "cell_type": "markdown",
   "id": "37813f80",
   "metadata": {},
   "source": [
    "Join 2020"
   ]
  },
  {
   "cell_type": "code",
   "execution_count": 14,
   "id": "cf7bc37a",
   "metadata": {},
   "outputs": [
    {
     "name": "stdout",
     "output_type": "stream",
     "text": [
      "<class 'geopandas.geodataframe.GeoDataFrame'>\n",
      "RangeIndex: 74 entries, 0 to 73\n",
      "Data columns (total 4 columns):\n",
      " #   Column    Non-Null Count  Dtype   \n",
      "---  ------    --------------  -----   \n",
      " 0   GEO_ID    74 non-null     object  \n",
      " 1   NAME      74 non-null     object  \n",
      " 2   ALAND     74 non-null     int64   \n",
      " 3   geometry  74 non-null     geometry\n",
      "dtypes: geometry(1), int64(1), object(2)\n",
      "memory usage: 2.4+ KB\n"
     ]
    }
   ],
   "source": [
    "df = kyplaces.append(tnplaces)\n",
    "df = df.append(tncounties).reset_index(drop = True)\n",
    "df = df.append(kycounties).reset_index(drop = True)\n",
    "df = df.append(tn).reset_index(drop = True)\n",
    "df.info()"
   ]
  },
  {
   "cell_type": "code",
   "execution_count": 15,
   "id": "ffc50d31",
   "metadata": {},
   "outputs": [],
   "source": [
    "geometries = df[['GEO_ID', 'geometry']].copy()\n",
    "df = df.drop(columns = 'geometry')"
   ]
  },
  {
   "cell_type": "code",
   "execution_count": 16,
   "id": "cec8c92d",
   "metadata": {},
   "outputs": [],
   "source": [
    "df['ALAND'] = df['ALAND'].astype(float)\n",
    "df = df.set_index(['NAME', 'GEO_ID'])\n",
    "data = df.transpose()"
   ]
  },
  {
   "cell_type": "code",
   "execution_count": 17,
   "id": "65e49883",
   "metadata": {},
   "outputs": [],
   "source": [
    "GNRCCounties = [data[('Stewart County, Tennessee', '0500000US47161')],data[('Montgomery County, Tennessee', '0500000US47125')],\n",
    "                data[('Houston County, Tennessee', '0500000US47083')],data[('Humphreys County, Tennessee', '0500000US47085')],\n",
    "                data[('Dickson County, Tennessee', '0500000US47043')],data[('Cheatham County, Tennessee', '0500000US47021')],\n",
    "                data[('Robertson County, Tennessee', '0500000US47147')],data[('Sumner County, Tennessee', '0500000US47165')],\n",
    "                data[('Davidson County, Tennessee', '0500000US47037')],data[('Wilson County, Tennessee', '0500000US47189')],\n",
    "                data[('Trousdale County, Tennessee', '0500000US47169')],data[('Williamson County, Tennessee', '0500000US47187')],\n",
    "                data[('Rutherford County, Tennessee', '0500000US47149')]]\n",
    "data['GNRC'] = sum(GNRCCounties)\n",
    "GNRCCountiesAll = [data[('Stewart County, Tennessee', '0500000US47161')],data[('Montgomery County, Tennessee', '0500000US47125')],\n",
    "                   data[('Houston County, Tennessee', '0500000US47083')],data[('Humphreys County, Tennessee', '0500000US47085')],\n",
    "                   data[('Dickson County, Tennessee', '0500000US47043')],data[('Cheatham County, Tennessee', '0500000US47021')],\n",
    "                   data[('Robertson County, Tennessee', '0500000US47147')],data[('Sumner County, Tennessee', '0500000US47165')],\n",
    "                   data[('Davidson County, Tennessee', '0500000US47037')],data[('Wilson County, Tennessee', '0500000US47189')],\n",
    "                   data[('Trousdale County, Tennessee', '0500000US47169')],data[('Williamson County, Tennessee', '0500000US47187')],\n",
    "                   data[('Rutherford County, Tennessee', '0500000US47149')],data[('Maury County, Tennessee', '0500000US47119')]]\n",
    "data['GNRC Region'] = sum(GNRCCountiesAll)\n",
    "MPOCounties = [data[('Robertson County, Tennessee', '0500000US47147')],data[('Sumner County, Tennessee', '0500000US47165')],\n",
    "               data[('Davidson County, Tennessee', '0500000US47037')],data[('Wilson County, Tennessee', '0500000US47189')],\n",
    "               data[('Williamson County, Tennessee', '0500000US47187')],data[('Rutherford County, Tennessee', '0500000US47149')],\n",
    "               data[('Maury County, Tennessee', '0500000US47119')]]\n",
    "data['MPO'] = sum(MPOCounties)\n",
    "RuthInc = [data[('Eagleville city, Tennessee', '1600000US4722360')],data[('La Vergne city, Tennessee', '1600000US4741200')],\n",
    "           data[('Murfreesboro city, Tennessee', '1600000US4751560')],data[('Smyrna town, Tennessee', '1600000US4769420')]]\n",
    "data[('Rutherford Incorporated', 'None')] = sum(RuthInc)\n",
    "data[('Rutherford Unincorporated', 'None')] = data[('Rutherford County, Tennessee', '0500000US47149')] - data[('Rutherford Incorporated', 'None')]\n",
    "WilsonInc = [data[('Lebanon city, Tennessee', '1600000US4741520')],data[('Mount Juliet city, Tennessee', '1600000US4750780')],\n",
    "             data[('Watertown city, Tennessee', '1600000US4778320')]]\n",
    "data[('Wilson Incorporated', 'None')] = sum(WilsonInc)\n",
    "data[('Wilson Unincorporated', 'None')] = data[('Wilson County, Tennessee', '0500000US47189')] - data[('Wilson Incorporated', 'None')]\n",
    "CheathInc = [data[('Ashland City town, Tennessee', '1600000US4702180')],data[('Kingston Springs town, Tennessee', '1600000US4739660')],\n",
    "             data[('Pegram town, Tennessee', '1600000US4757480')],data[('Pleasant View city, Tennessee', '1600000US4759560')]]\n",
    "data[('Cheatham Incorporated', 'None')] = sum(CheathInc)\n",
    "data[('Cheatham Unincorporated', 'None')] = data[('Cheatham County, Tennessee', '0500000US47021')] - data[('Cheatham Incorporated', 'None')]\n",
    "DicksInc = [data[('Burns town, Tennessee', '1600000US4709880')],data[('Charlotte town, Tennessee', '1600000US4713080')],\n",
    "            data[('Dickson city, Tennessee', '1600000US4720620')],data[('Slayden town, Tennessee', '1600000US4769080')],\n",
    "            data[('Vanleer town, Tennessee', '1600000US4776860')],data[('White Bluff town, Tennessee', '1600000US4779980')]]\n",
    "data[('Dickson Incorporated', 'None')] = sum(DicksInc)\n",
    "data[('Dickson Unincorporated', 'None')] = data[('Dickson County, Tennessee', '0500000US47043')] - data[('Dickson Incorporated', 'None')]\n",
    "HumphInc = [data[('McEwen city, Tennessee', '1600000US4744840')],data[('New Johnsonville city, Tennessee', '1600000US4752820')],\n",
    "            data[('Waverly city, Tennessee', '1600000US4778560')]]\n",
    "data[('Humphreys Incorporated', 'None')] = sum(HumphInc)\n",
    "data[('Humphreys Unincorporated', 'None')] = data[('Humphreys County, Tennessee', '0500000US47085')] - data[('Humphreys Incorporated', 'None')]\n",
    "data[('Montgomery Incorporated', 'None')] = data[('Clarksville city, Tennessee', '1600000US4715160')]\n",
    "data[('Montgomery Unincorporated', 'None')] = data[('Montgomery County, Tennessee', '0500000US47125')] - data[('Montgomery Incorporated', 'None')]"
   ]
  },
  {
   "cell_type": "code",
   "execution_count": 18,
   "id": "62e72775",
   "metadata": {},
   "outputs": [],
   "source": [
    "data = data.transpose().reset_index()\n",
    "data['Square Acres'] = data['ALAND']*0.000247105\n",
    "data['Square Miles'] = data['ALAND']*0.00000038610215855\n",
    "data = data.drop(columns = 'ALAND')"
   ]
  },
  {
   "cell_type": "code",
   "execution_count": 19,
   "id": "710ccf91",
   "metadata": {},
   "outputs": [],
   "source": [
    "wgeos = data.merge(geometries, on = 'GEO_ID')"
   ]
  },
  {
   "cell_type": "code",
   "execution_count": 21,
   "id": "6eb4f198",
   "metadata": {},
   "outputs": [],
   "source": [
    "wgeos.to_file('../../Outputs/TIGERS2020.shp')\n",
    "data.to_csv('../../Outputs/TIGERS2020.csv', index = False)"
   ]
  },
  {
   "cell_type": "markdown",
   "id": "cb86694b",
   "metadata": {},
   "source": [
    "# 2010"
   ]
  },
  {
   "cell_type": "markdown",
   "id": "045b65e8",
   "metadata": {},
   "source": [
    "State 2010"
   ]
  },
  {
   "cell_type": "code",
   "execution_count": 22,
   "id": "472acabe",
   "metadata": {},
   "outputs": [
    {
     "name": "stdout",
     "output_type": "stream",
     "text": [
      "Your geographic file is ready.\n"
     ]
    }
   ],
   "source": [
    "url = 'https://www2.census.gov/geo/tiger/TIGER2010/STATE/2010/tl_2010_47_state10.zip'\n",
    "geo = gpd.read_file(url)\n",
    "print('Your geographic file is ready.')"
   ]
  },
  {
   "cell_type": "code",
   "execution_count": 23,
   "id": "33ddf484",
   "metadata": {},
   "outputs": [],
   "source": [
    "tn = geo\n",
    "tn = tn.drop(columns = ['REGION10', 'DIVISION10', 'STATEFP10', 'STATENS10', 'STUSPS10', 'LSAD10',\n",
    "                        'MTFCC10', 'FUNCSTAT10', 'AWATER10', 'INTPTLAT10', 'INTPTLON10'])\n",
    "tn = tn.rename(columns = {'GEOID10':'GEO_ID', 'NAME10':'NAME'})\n",
    "tn['GEO_ID'] = '0400000US' + tn['GEO_ID']"
   ]
  },
  {
   "cell_type": "markdown",
   "id": "29bcc2d6",
   "metadata": {},
   "source": [
    "COUNTIES 2010"
   ]
  },
  {
   "cell_type": "code",
   "execution_count": 24,
   "id": "efaf83db",
   "metadata": {},
   "outputs": [
    {
     "name": "stdout",
     "output_type": "stream",
     "text": [
      "Your geographic file is ready.\n"
     ]
    }
   ],
   "source": [
    "url = 'https://www2.census.gov/geo/tiger/TIGER2010/COUNTY/2010/tl_2010_47_county10.zip'\n",
    "geo = gpd.read_file(url)\n",
    "print('Your geographic file is ready.')"
   ]
  },
  {
   "cell_type": "code",
   "execution_count": 25,
   "id": "07858110",
   "metadata": {},
   "outputs": [],
   "source": [
    "tncounties = geo.loc[geo['GEOID10'].isin(tncounty)]\n",
    "tncounties = tncounties.drop(columns = ['STATEFP10', 'COUNTYFP10', 'COUNTYNS10', 'NAME10', 'LSAD10', 'CLASSFP10',\n",
    "                                        'MTFCC10', 'CSAFP10', 'CBSAFP10', 'METDIVFP10', 'FUNCSTAT10', 'AWATER10', 'INTPTLAT10', 'INTPTLON10'])\n",
    "tncounties = tncounties.rename(columns = {'GEOID10':'GEO_ID', 'NAMELSAD10':'NAME'})\n",
    "tncounties['NAME'] = tncounties['NAME'] + ', Tennessee'\n",
    "tncounties['GEO_ID'] = '0500000US' + tncounties['GEO_ID']"
   ]
  },
  {
   "cell_type": "code",
   "execution_count": 26,
   "id": "668762ee",
   "metadata": {},
   "outputs": [
    {
     "name": "stdout",
     "output_type": "stream",
     "text": [
      "Your geographic file is ready.\n"
     ]
    }
   ],
   "source": [
    "url = 'https://www2.census.gov/geo/tiger/TIGER2010/COUNTY/2010/tl_2010_21_county10.zip'\n",
    "geo = gpd.read_file(url)\n",
    "print('Your geographic file is ready.')"
   ]
  },
  {
   "cell_type": "code",
   "execution_count": 27,
   "id": "06f50441",
   "metadata": {},
   "outputs": [],
   "source": [
    "kycounties = geo.loc[geo['GEOID10'].isin(kycounty)]\n",
    "kycounties = kycounties.drop(columns = ['STATEFP10', 'COUNTYFP10', 'COUNTYNS10', 'NAME10', 'LSAD10', 'CLASSFP10',\n",
    "                                        'MTFCC10', 'CSAFP10', 'CBSAFP10', 'METDIVFP10', 'FUNCSTAT10', 'AWATER10', 'INTPTLAT10', 'INTPTLON10'])\n",
    "kycounties = kycounties.rename(columns = {'GEOID10':'GEO_ID', 'NAMELSAD10':'NAME'})\n",
    "kycounties['NAME'] = kycounties['NAME'] + ', Kentucky'\n",
    "kycounties['GEO_ID'] = '0500000US' + kycounties['GEO_ID']"
   ]
  },
  {
   "cell_type": "markdown",
   "id": "58dfb42d",
   "metadata": {},
   "source": [
    "PLACES 2010"
   ]
  },
  {
   "cell_type": "code",
   "execution_count": 28,
   "id": "468c1c92",
   "metadata": {},
   "outputs": [
    {
     "name": "stdout",
     "output_type": "stream",
     "text": [
      "Your geographic file is ready.\n"
     ]
    }
   ],
   "source": [
    "#Tennessee Places\n",
    "url= 'https://www2.census.gov/geo/tiger/TIGER2010/PLACE/2010/tl_2010_47_place10.zip'\n",
    "geo = gpd.read_file(url)\n",
    "print('Your geographic file is ready.')"
   ]
  },
  {
   "cell_type": "code",
   "execution_count": 29,
   "id": "20338ae9",
   "metadata": {},
   "outputs": [],
   "source": [
    "tnplaces = geo.loc[geo['GEOID10'].isin(tnplac)]\n",
    "tnplaces = tnplaces.drop(columns = ['STATEFP10', 'PLACEFP10', 'PLACENS10', 'NAME10', 'LSAD10', 'CLASSFP10',\n",
    "                          'PCICBSA10', 'PCINECTA10', 'MTFCC10', 'FUNCSTAT10', 'AWATER10', 'INTPTLAT10', 'INTPTLON10'])\n",
    "tnplaces = tnplaces.rename(columns = {'GEOID10':'GEO_ID', 'NAMELSAD10':'NAME'})\n",
    "tnplaces['NAME'] = tnplaces['NAME'] + ', Tennessee'\n",
    "tnplaces['GEO_ID'] = '1600000US' + tnplaces['GEO_ID']"
   ]
  },
  {
   "cell_type": "code",
   "execution_count": 30,
   "id": "03393db6",
   "metadata": {},
   "outputs": [
    {
     "name": "stdout",
     "output_type": "stream",
     "text": [
      "Your geographic file is ready.\n"
     ]
    }
   ],
   "source": [
    "#Kentucky Places\n",
    "url= 'https://www2.census.gov/geo/tiger/TIGER2010/PLACE/2010/tl_2010_21_place10.zip'\n",
    "geo = gpd.read_file(url)\n",
    "print('Your geographic file is ready.')"
   ]
  },
  {
   "cell_type": "code",
   "execution_count": 31,
   "id": "3d103871",
   "metadata": {},
   "outputs": [],
   "source": [
    "kyplaces = geo.loc[geo['GEOID10'].isin(kyplac)]\n",
    "kyplaces = kyplaces.drop(columns = ['STATEFP10', 'PLACEFP10', 'PLACENS10', 'NAME10', 'LSAD10', 'CLASSFP10',\n",
    "                          'PCICBSA10', 'PCINECTA10', 'MTFCC10', 'FUNCSTAT10', 'AWATER10', 'INTPTLAT10', 'INTPTLON10'])\n",
    "kyplaces = kyplaces.rename(columns = {'GEOID10':'GEO_ID', 'NAMELSAD10':'NAME'})\n",
    "kyplaces['NAME'] = kyplaces['NAME'] + ', Kentucky'\n",
    "kyplaces['GEO_ID'] = '1600000US' + kyplaces['GEO_ID']"
   ]
  },
  {
   "cell_type": "markdown",
   "id": "38a1b5c3",
   "metadata": {},
   "source": [
    "JOIN 2010"
   ]
  },
  {
   "cell_type": "code",
   "execution_count": 32,
   "id": "c9fa8dd7",
   "metadata": {},
   "outputs": [],
   "source": [
    "df = kyplaces.append(tnplaces)\n",
    "df = df.append(tncounties).reset_index(drop = True)\n",
    "df = df.append(kycounties).reset_index(drop = True)\n",
    "df = df.append(tn).reset_index(drop = True)"
   ]
  },
  {
   "cell_type": "code",
   "execution_count": 33,
   "id": "1a2b96ed",
   "metadata": {},
   "outputs": [],
   "source": [
    "geometries = df[['GEO_ID', 'geometry']].copy()\n",
    "df = df.drop(columns = 'geometry')"
   ]
  },
  {
   "cell_type": "code",
   "execution_count": 34,
   "id": "4323adc4",
   "metadata": {},
   "outputs": [],
   "source": [
    "df['ALAND10'] = df['ALAND10'].astype(float)\n",
    "df = df.set_index(['NAME', 'GEO_ID'])\n",
    "data = df.transpose()"
   ]
  },
  {
   "cell_type": "code",
   "execution_count": 35,
   "id": "13bbe03a",
   "metadata": {},
   "outputs": [],
   "source": [
    "GNRCCounties = [data[('Stewart County, Tennessee', '0500000US47161')],data[('Montgomery County, Tennessee', '0500000US47125')],\n",
    "                data[('Houston County, Tennessee', '0500000US47083')],data[('Humphreys County, Tennessee', '0500000US47085')],\n",
    "                data[('Dickson County, Tennessee', '0500000US47043')],data[('Cheatham County, Tennessee', '0500000US47021')],\n",
    "                data[('Robertson County, Tennessee', '0500000US47147')],data[('Sumner County, Tennessee', '0500000US47165')],\n",
    "                data[('Davidson County, Tennessee', '0500000US47037')],data[('Wilson County, Tennessee', '0500000US47189')],\n",
    "                data[('Trousdale County, Tennessee', '0500000US47169')],data[('Williamson County, Tennessee', '0500000US47187')],\n",
    "                data[('Rutherford County, Tennessee', '0500000US47149')]]\n",
    "data['GNRC'] = sum(GNRCCounties)\n",
    "GNRCCountiesAll = [data[('Stewart County, Tennessee', '0500000US47161')],data[('Montgomery County, Tennessee', '0500000US47125')],\n",
    "                   data[('Houston County, Tennessee', '0500000US47083')],data[('Humphreys County, Tennessee', '0500000US47085')],\n",
    "                   data[('Dickson County, Tennessee', '0500000US47043')],data[('Cheatham County, Tennessee', '0500000US47021')],\n",
    "                   data[('Robertson County, Tennessee', '0500000US47147')],data[('Sumner County, Tennessee', '0500000US47165')],\n",
    "                   data[('Davidson County, Tennessee', '0500000US47037')],data[('Wilson County, Tennessee', '0500000US47189')],\n",
    "                   data[('Trousdale County, Tennessee', '0500000US47169')],data[('Williamson County, Tennessee', '0500000US47187')],\n",
    "                   data[('Rutherford County, Tennessee', '0500000US47149')],data[('Maury County, Tennessee', '0500000US47119')]]\n",
    "data['GNRC Region'] = sum(GNRCCountiesAll)\n",
    "MPOCounties = [data[('Robertson County, Tennessee', '0500000US47147')],data[('Sumner County, Tennessee', '0500000US47165')],\n",
    "               data[('Davidson County, Tennessee', '0500000US47037')],data[('Wilson County, Tennessee', '0500000US47189')],\n",
    "               data[('Williamson County, Tennessee', '0500000US47187')],data[('Rutherford County, Tennessee', '0500000US47149')],\n",
    "               data[('Maury County, Tennessee', '0500000US47119')]]\n",
    "data['MPO'] = sum(MPOCounties)\n",
    "RuthInc = [data[('Eagleville city, Tennessee', '1600000US4722360')],data[('La Vergne city, Tennessee', '1600000US4741200')],\n",
    "           data[('Murfreesboro city, Tennessee', '1600000US4751560')],data[('Smyrna town, Tennessee', '1600000US4769420')]]\n",
    "data[('Rutherford Incorporated', 'None')] = sum(RuthInc)\n",
    "data[('Rutherford Unincorporated', 'None')] = data[('Rutherford County, Tennessee', '0500000US47149')] - data[('Rutherford Incorporated', 'None')]\n",
    "WilsonInc = [data[('Lebanon city, Tennessee', '1600000US4741520')],data[('Mount Juliet city, Tennessee', '1600000US4750780')],\n",
    "             data[('Watertown city, Tennessee', '1600000US4778320')]]\n",
    "data[('Wilson Incorporated', 'None')] = sum(WilsonInc)\n",
    "data[('Wilson Unincorporated', 'None')] = data[('Wilson County, Tennessee', '0500000US47189')] - data[('Wilson Incorporated', 'None')]\n",
    "CheathInc = [data[('Ashland City town, Tennessee', '1600000US4702180')],data[('Kingston Springs town, Tennessee', '1600000US4739660')],\n",
    "             data[('Pegram town, Tennessee', '1600000US4757480')],data[('Pleasant View city, Tennessee', '1600000US4759560')]]\n",
    "data[('Cheatham Incorporated', 'None')] = sum(CheathInc)\n",
    "data[('Cheatham Unincorporated', 'None')] = data[('Cheatham County, Tennessee', '0500000US47021')] - data[('Cheatham Incorporated', 'None')]\n",
    "DicksInc = [data[('Burns town, Tennessee', '1600000US4709880')],data[('Charlotte town, Tennessee', '1600000US4713080')],\n",
    "            data[('Dickson city, Tennessee', '1600000US4720620')],data[('Slayden town, Tennessee', '1600000US4769080')],\n",
    "            data[('Vanleer town, Tennessee', '1600000US4776860')],data[('White Bluff town, Tennessee', '1600000US4779980')]]\n",
    "data[('Dickson Incorporated', 'None')] = sum(DicksInc)\n",
    "data[('Dickson Unincorporated', 'None')] = data[('Dickson County, Tennessee', '0500000US47043')] - data[('Dickson Incorporated', 'None')]\n",
    "HumphInc = [data[('McEwen city, Tennessee', '1600000US4744840')],data[('New Johnsonville city, Tennessee', '1600000US4752820')],\n",
    "            data[('Waverly city, Tennessee', '1600000US4778560')]]\n",
    "data[('Humphreys Incorporated', 'None')] = sum(HumphInc)\n",
    "data[('Humphreys Unincorporated', 'None')] = data[('Humphreys County, Tennessee', '0500000US47085')] - data[('Humphreys Incorporated', 'None')]\n",
    "data[('Montgomery Incorporated', 'None')] = data[('Clarksville city, Tennessee', '1600000US4715160')]\n",
    "data[('Montgomery Unincorporated', 'None')] = data[('Montgomery County, Tennessee', '0500000US47125')] - data[('Montgomery Incorporated', 'None')]"
   ]
  },
  {
   "cell_type": "code",
   "execution_count": 36,
   "id": "76898236",
   "metadata": {},
   "outputs": [],
   "source": [
    "data = data.transpose().reset_index()\n",
    "data['Square Acres'] = data['ALAND10']*0.000247105\n",
    "data['Square Miles'] = data['ALAND10']*0.00000038610215855\n",
    "data = data.drop(columns = 'ALAND10')"
   ]
  },
  {
   "cell_type": "code",
   "execution_count": 37,
   "id": "6c451525",
   "metadata": {},
   "outputs": [],
   "source": [
    "wgeos = data.merge(geometries, on = 'GEO_ID')"
   ]
  },
  {
   "cell_type": "code",
   "execution_count": 38,
   "id": "0f8da792",
   "metadata": {},
   "outputs": [],
   "source": [
    "wgeos.to_file('../../Outputs/TIGERS2010.shp')\n",
    "data.to_csv('../../Outputs/TIGERS2010.csv', index = False)"
   ]
  },
  {
   "cell_type": "markdown",
   "id": "fabf0d41",
   "metadata": {},
   "source": [
    "# 2000"
   ]
  },
  {
   "cell_type": "markdown",
   "id": "bdabb1ce",
   "metadata": {},
   "source": [
    "STATE 2000"
   ]
  },
  {
   "cell_type": "code",
   "execution_count": 39,
   "id": "95b931bb",
   "metadata": {},
   "outputs": [
    {
     "name": "stdout",
     "output_type": "stream",
     "text": [
      "Your geographic file is ready.\n"
     ]
    }
   ],
   "source": [
    "url = 'https://www2.census.gov/geo/tiger/TIGER2010/STATE/2000/tl_2010_47_state00.zip'\n",
    "geo = gpd.read_file(url)\n",
    "print('Your geographic file is ready.')"
   ]
  },
  {
   "cell_type": "code",
   "execution_count": 40,
   "id": "38d11e10",
   "metadata": {},
   "outputs": [],
   "source": [
    "tn = geo\n",
    "tn = tn.drop(columns = ['REGION00', 'DIVISION00', 'STUSPS00', 'LSAD00',\n",
    "                        'MTFCC00', 'UR00', 'FUNCSTAT00', 'AWATER00', 'INTPTLAT00', 'INTPTLON00'])\n",
    "tn = tn.rename(columns = {'STATEFP00':'GEO_ID', 'NAME00':'NAME'})\n",
    "tn['GEO_ID'] = '0400000US' + tn['GEO_ID']"
   ]
  },
  {
   "cell_type": "markdown",
   "id": "0505ad28",
   "metadata": {},
   "source": [
    "COUNTIES 2000"
   ]
  },
  {
   "cell_type": "code",
   "execution_count": 41,
   "id": "70a95ef9",
   "metadata": {},
   "outputs": [
    {
     "name": "stdout",
     "output_type": "stream",
     "text": [
      "Your geographic file is ready.\n"
     ]
    }
   ],
   "source": [
    "#Tennessee counties\n",
    "url = 'https://www2.census.gov/geo/tiger/TIGER2010/COUNTY/2000/tl_2010_47_county00.zip'\n",
    "geo = gpd.read_file(url)\n",
    "print('Your geographic file is ready.')"
   ]
  },
  {
   "cell_type": "code",
   "execution_count": 42,
   "id": "b3c55c3e",
   "metadata": {},
   "outputs": [],
   "source": [
    "tncounties = geo.loc[geo['CNTYIDFP00'].isin(tncounty)]\n",
    "tncounties = tncounties.drop(columns = ['STATEFP00', 'COUNTYFP00', 'NAME00', 'LSAD00', 'CLASSFP00',\n",
    "                                        'MTFCC00', 'UR00', 'FUNCSTAT00', 'AWATER00', 'INTPTLAT00', 'INTPTLON00'])\n",
    "tncounties = tncounties.rename(columns = {'CNTYIDFP00':'GEO_ID', 'NAMELSAD00':'NAME'})\n",
    "tncounties['NAME'] = tncounties['NAME'] + ', Tennessee'\n",
    "tncounties['GEO_ID'] = '0500000US' + tncounties['GEO_ID']"
   ]
  },
  {
   "cell_type": "code",
   "execution_count": 43,
   "id": "02deee8f",
   "metadata": {},
   "outputs": [
    {
     "name": "stdout",
     "output_type": "stream",
     "text": [
      "Your geographic file is ready.\n"
     ]
    }
   ],
   "source": [
    "#Kentucky counties\n",
    "url = 'https://www2.census.gov/geo/tiger/TIGER2010/COUNTY/2000/tl_2010_21_county00.zip'\n",
    "geo = gpd.read_file(url)\n",
    "print('Your geographic file is ready.')"
   ]
  },
  {
   "cell_type": "code",
   "execution_count": 44,
   "id": "8d4434f4",
   "metadata": {},
   "outputs": [],
   "source": [
    "kycounties = geo.loc[geo['CNTYIDFP00'].isin(kycounty)]\n",
    "kycounties = kycounties.drop(columns = ['STATEFP00', 'COUNTYFP00', 'NAME00', 'LSAD00', 'CLASSFP00',\n",
    "                                        'MTFCC00', 'UR00', 'FUNCSTAT00', 'AWATER00', 'INTPTLAT00', 'INTPTLON00'])\n",
    "kycounties = kycounties.rename(columns = {'CNTYIDFP00':'GEO_ID', 'NAMELSAD00':'NAME'})\n",
    "kycounties['NAME'] = kycounties['NAME'] + ', Kentucky'\n",
    "kycounties['GEO_ID'] = '0500000US' + kycounties['GEO_ID']"
   ]
  },
  {
   "cell_type": "markdown",
   "id": "9d367252",
   "metadata": {},
   "source": [
    "PLACES 2000"
   ]
  },
  {
   "cell_type": "code",
   "execution_count": 46,
   "id": "5f8534cf",
   "metadata": {},
   "outputs": [
    {
     "name": "stdout",
     "output_type": "stream",
     "text": [
      "Your geographic file is ready.\n"
     ]
    }
   ],
   "source": [
    "#Tennessee Places\n",
    "url= 'https://www2.census.gov/geo/tiger/TIGER2010/PLACE/2000/tl_2010_47_place00.zip'\n",
    "geo = gpd.read_file(url)\n",
    "print('Your geographic file is ready.')"
   ]
  },
  {
   "cell_type": "code",
   "execution_count": 47,
   "id": "b2875820",
   "metadata": {},
   "outputs": [],
   "source": [
    "tnplaces = geo.loc[geo['PLCIDFP00'].isin(tnplac)]\n",
    "tnplaces = tnplaces.drop(columns = ['STATEFP00', 'PLACEFP00', 'NAME00', 'LSAD00', 'CLASSFP00', 'CPI00',\n",
    "                          'PCICBSA00', 'PCINECTA00', 'MTFCC00', 'UR00', 'FUNCSTAT00', 'AWATER00', 'INTPTLAT00', 'INTPTLON00'])\n",
    "tnplaces = tnplaces.rename(columns = {'PLCIDFP00':'GEO_ID', 'NAMELSAD00':'NAME'})\n",
    "tnplaces['NAME'] = tnplaces['NAME'] + ', Tennessee'\n",
    "tnplaces['GEO_ID'] = '1600000US' + tnplaces['GEO_ID']"
   ]
  },
  {
   "cell_type": "code",
   "execution_count": 48,
   "id": "05d690a1",
   "metadata": {},
   "outputs": [
    {
     "name": "stdout",
     "output_type": "stream",
     "text": [
      "Your geographic file is ready.\n"
     ]
    }
   ],
   "source": [
    "#Kentucky Places\n",
    "url= 'https://www2.census.gov/geo/tiger/TIGER2010/PLACE/2000/tl_2010_21_place00.zip'\n",
    "geo = gpd.read_file(url)\n",
    "print('Your geographic file is ready.')"
   ]
  },
  {
   "cell_type": "code",
   "execution_count": 49,
   "id": "b9b65eb8",
   "metadata": {},
   "outputs": [],
   "source": [
    "kyplaces = geo.loc[geo['PLCIDFP00'].isin(kyplac)]\n",
    "kyplaces = kyplaces.drop(columns = ['STATEFP00', 'PLACEFP00', 'NAME00', 'LSAD00', 'CLASSFP00', 'CPI00',\n",
    "                          'PCICBSA00', 'PCINECTA00', 'MTFCC00', 'UR00', 'FUNCSTAT00', 'AWATER00', 'INTPTLAT00', 'INTPTLON00'])\n",
    "kyplaces = kyplaces.rename(columns = {'PLCIDFP00':'GEO_ID', 'NAMELSAD00':'NAME'})\n",
    "kyplaces['NAME'] = kyplaces['NAME'] + ', Kentucky'\n",
    "kyplaces['GEO_ID'] = '1600000US' + kyplaces['GEO_ID']"
   ]
  },
  {
   "cell_type": "markdown",
   "id": "a391a75a",
   "metadata": {},
   "source": [
    "JOIN 2000"
   ]
  },
  {
   "cell_type": "code",
   "execution_count": 50,
   "id": "f749655f",
   "metadata": {},
   "outputs": [],
   "source": [
    "df = kyplaces.append(tnplaces)\n",
    "df = df.append(tncounties).reset_index(drop = True)\n",
    "df = df.append(kycounties).reset_index(drop = True)\n",
    "df = df.append(tn).reset_index(drop = True)"
   ]
  },
  {
   "cell_type": "code",
   "execution_count": 51,
   "id": "c39ff5b4",
   "metadata": {},
   "outputs": [],
   "source": [
    "geometries = df[['GEO_ID', 'geometry']].copy()\n",
    "df = df.drop(columns = 'geometry')"
   ]
  },
  {
   "cell_type": "code",
   "execution_count": 52,
   "id": "c3c1da9d",
   "metadata": {},
   "outputs": [],
   "source": [
    "df['ALAND00'] = df['ALAND00'].astype(float)\n",
    "df = df.set_index(['NAME', 'GEO_ID'])\n",
    "data = df.transpose()"
   ]
  },
  {
   "cell_type": "code",
   "execution_count": 53,
   "id": "d79fcf90",
   "metadata": {},
   "outputs": [],
   "source": [
    "GNRCCounties = [data[('Stewart County, Tennessee', '0500000US47161')],data[('Montgomery County, Tennessee', '0500000US47125')],\n",
    "                data[('Houston County, Tennessee', '0500000US47083')],data[('Humphreys County, Tennessee', '0500000US47085')],\n",
    "                data[('Dickson County, Tennessee', '0500000US47043')],data[('Cheatham County, Tennessee', '0500000US47021')],\n",
    "                data[('Robertson County, Tennessee', '0500000US47147')],data[('Sumner County, Tennessee', '0500000US47165')],\n",
    "                data[('Davidson County, Tennessee', '0500000US47037')],data[('Wilson County, Tennessee', '0500000US47189')],\n",
    "                data[('Trousdale County, Tennessee', '0500000US47169')],data[('Williamson County, Tennessee', '0500000US47187')],\n",
    "                data[('Rutherford County, Tennessee', '0500000US47149')]]\n",
    "data['GNRC'] = sum(GNRCCounties)\n",
    "GNRCCountiesAll = [data[('Stewart County, Tennessee', '0500000US47161')],data[('Montgomery County, Tennessee', '0500000US47125')],\n",
    "                   data[('Houston County, Tennessee', '0500000US47083')],data[('Humphreys County, Tennessee', '0500000US47085')],\n",
    "                   data[('Dickson County, Tennessee', '0500000US47043')],data[('Cheatham County, Tennessee', '0500000US47021')],\n",
    "                   data[('Robertson County, Tennessee', '0500000US47147')],data[('Sumner County, Tennessee', '0500000US47165')],\n",
    "                   data[('Davidson County, Tennessee', '0500000US47037')],data[('Wilson County, Tennessee', '0500000US47189')],\n",
    "                   data[('Trousdale County, Tennessee', '0500000US47169')],data[('Williamson County, Tennessee', '0500000US47187')],\n",
    "                   data[('Rutherford County, Tennessee', '0500000US47149')],data[('Maury County, Tennessee', '0500000US47119')]]\n",
    "data['GNRC Region'] = sum(GNRCCountiesAll)\n",
    "MPOCounties = [data[('Robertson County, Tennessee', '0500000US47147')],data[('Sumner County, Tennessee', '0500000US47165')],\n",
    "               data[('Davidson County, Tennessee', '0500000US47037')],data[('Wilson County, Tennessee', '0500000US47189')],\n",
    "               data[('Williamson County, Tennessee', '0500000US47187')],data[('Rutherford County, Tennessee', '0500000US47149')],\n",
    "               data[('Maury County, Tennessee', '0500000US47119')]]\n",
    "data['MPO'] = sum(MPOCounties)\n",
    "RuthInc = [data[('Eagleville city, Tennessee', '1600000US4722360')],data[('La Vergne city, Tennessee', '1600000US4741200')],\n",
    "           data[('Murfreesboro city, Tennessee', '1600000US4751560')],data[('Smyrna town, Tennessee', '1600000US4769420')]]\n",
    "data[('Rutherford Incorporated', 'None')] = sum(RuthInc)\n",
    "data[('Rutherford Unincorporated', 'None')] = data[('Rutherford County, Tennessee', '0500000US47149')] - data[('Rutherford Incorporated', 'None')]\n",
    "WilsonInc = [data[('Lebanon city, Tennessee', '1600000US4741520')],data[('Mount Juliet city, Tennessee', '1600000US4750780')],\n",
    "             data[('Watertown city, Tennessee', '1600000US4778320')]]\n",
    "data[('Wilson Incorporated', 'None')] = sum(WilsonInc)\n",
    "data[('Wilson Unincorporated', 'None')] = data[('Wilson County, Tennessee', '0500000US47189')] - data[('Wilson Incorporated', 'None')]\n",
    "CheathInc = [data[('Ashland City town, Tennessee', '1600000US4702180')],data[('Kingston Springs town, Tennessee', '1600000US4739660')],\n",
    "             data[('Pegram town, Tennessee', '1600000US4757480')],data[('Pleasant View city, Tennessee', '1600000US4759560')]]\n",
    "data[('Cheatham Incorporated', 'None')] = sum(CheathInc)\n",
    "data[('Cheatham Unincorporated', 'None')] = data[('Cheatham County, Tennessee', '0500000US47021')] - data[('Cheatham Incorporated', 'None')]\n",
    "DicksInc = [data[('Burns town, Tennessee', '1600000US4709880')],data[('Charlotte town, Tennessee', '1600000US4713080')],\n",
    "            data[('Dickson city, Tennessee', '1600000US4720620')],data[('Slayden town, Tennessee', '1600000US4769080')],\n",
    "            data[('Vanleer town, Tennessee', '1600000US4776860')],data[('White Bluff town, Tennessee', '1600000US4779980')]]\n",
    "data[('Dickson Incorporated', 'None')] = sum(DicksInc)\n",
    "data[('Dickson Unincorporated', 'None')] = data[('Dickson County, Tennessee', '0500000US47043')] - data[('Dickson Incorporated', 'None')]\n",
    "HumphInc = [data[('McEwen city, Tennessee', '1600000US4744840')],data[('New Johnsonville city, Tennessee', '1600000US4752820')],\n",
    "            data[('Waverly city, Tennessee', '1600000US4778560')]]\n",
    "data[('Humphreys Incorporated', 'None')] = sum(HumphInc)\n",
    "data[('Humphreys Unincorporated', 'None')] = data[('Humphreys County, Tennessee', '0500000US47085')] - data[('Humphreys Incorporated', 'None')]\n",
    "data[('Montgomery Incorporated', 'None')] = data[('Clarksville city, Tennessee', '1600000US4715160')]\n",
    "data[('Montgomery Unincorporated', 'None')] = data[('Montgomery County, Tennessee', '0500000US47125')] - data[('Montgomery Incorporated', 'None')]"
   ]
  },
  {
   "cell_type": "code",
   "execution_count": 54,
   "id": "5f81b50b",
   "metadata": {},
   "outputs": [],
   "source": [
    "data = data.transpose().reset_index()\n",
    "data['Square Acres'] = data['ALAND00']*0.000247105\n",
    "data['Square Miles'] = data['ALAND00']*0.00000038610215855\n",
    "data = data.drop(columns = 'ALAND00')"
   ]
  },
  {
   "cell_type": "code",
   "execution_count": 55,
   "id": "1677986d",
   "metadata": {},
   "outputs": [],
   "source": [
    "wgeos = data.merge(geometries, on = 'GEO_ID')"
   ]
  },
  {
   "cell_type": "code",
   "execution_count": 56,
   "id": "56dc22fe",
   "metadata": {},
   "outputs": [],
   "source": [
    "wgeos.to_file('../../Outputs/TIGERS2000.shp')\n",
    "data.to_csv('../../Outputs/TIGERS2000.csv', index = False)"
   ]
  }
 ],
 "metadata": {
  "kernelspec": {
   "display_name": "Python 3 (ipykernel)",
   "language": "python",
   "name": "python3"
  },
  "language_info": {
   "codemirror_mode": {
    "name": "ipython",
    "version": 3
   },
   "file_extension": ".py",
   "mimetype": "text/x-python",
   "name": "python",
   "nbconvert_exporter": "python",
   "pygments_lexer": "ipython3",
   "version": "3.8.5"
  }
 },
 "nbformat": 4,
 "nbformat_minor": 5
}
