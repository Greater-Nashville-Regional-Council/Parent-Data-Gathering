{
 "cells": [
  {
   "cell_type": "markdown",
   "id": "c9314915",
   "metadata": {},
   "source": [
    "# Local Area Unemployment Statistics  \n",
    "This notebook pulls data for all counties of concern, and places with population over 25,000 that have unemployment statistics recorded by the Bureau of Labor Statistics. This notebook writes out two files - one with the most recent annual average unemployment rate, and one for month over month unadjusted unemployment from 2019 to the most recent estimate."
   ]
  },
  {
   "cell_type": "markdown",
   "id": "33aa2c28",
   "metadata": {},
   "source": [
    "## Series Codes:\n",
    "https://www.bls.gov/help/hlpforma.htm#AP"
   ]
  },
  {
   "cell_type": "code",
   "execution_count": 32,
   "id": "24b467ae",
   "metadata": {},
   "outputs": [],
   "source": [
    "import pandas as pd\n",
    "import json\n",
    "import requests"
   ]
  },
  {
   "cell_type": "code",
   "execution_count": 33,
   "id": "1710e442",
   "metadata": {},
   "outputs": [],
   "source": [
    "def get_laus(series, start, end):\n",
    "    headers = {'Content-Type': 'application/json'}\n",
    "    data = json.dumps({\"seriesid\": series,\"startyear\":\"%d\" % (start), \"endyear\":\"%d\" % (end), \"annualaverage\": True})\n",
    "    p = requests.post('https://api.bls.gov/publicAPI/v2/timeseries/data/', data=data, headers=headers)\n",
    "    json_data = json.loads(p.text)\n",
    "    try:\n",
    "        df = pd.DataFrame()\n",
    "        for series in json_data['Results']['series']:\n",
    "            df_initial = pd.DataFrame(series)\n",
    "            series_col = df_initial['seriesID'][0]\n",
    "            for i in range(0, len(df_initial) - 1):\n",
    "                df_row = pd.DataFrame(df_initial['data'][i])\n",
    "                df_row['seriesID'] = series_col\n",
    "                if 'code' not in str(df_row['footnotes']): \n",
    "                    df_row['footnotes'] = ''\n",
    "                else:\n",
    "                    df_row['footnotes'] = str(df_row['footnotes']).split(\"'code': '\",1)[1][:1]\n",
    "                df = df.append(df_row, ignore_index=True)\n",
    "        return df\n",
    "    except:\n",
    "        json_data['status'] == 'REQUEST_NOT_PROCESSED'\n",
    "        print('BLS API has given the following Response:', json_data['status'])\n",
    "        print('Reason:', json_data['message'])"
   ]
  },
  {
   "cell_type": "code",
   "execution_count": 34,
   "id": "f6436a5b",
   "metadata": {},
   "outputs": [],
   "source": [
    "#contains all places with threshold population as of October, 2022: https://download.bls.gov/pub/time.series/la/la.area\n",
    "#split counties and places because it's easier to adjust the geoids to match census ones that way, you could run them all together if you wanted\n",
    "counties = ['CN4702100000000', #Cheatham, \n",
    "            'CN4703700000000', #Davidson\n",
    "            'CN4704300000000', #Dickson, \n",
    "            'CN4708300000000', #Houston\n",
    "            'CN4708500000000', #Humphreys\n",
    "            'CN4711100000000', #Macon\n",
    "            'CN4711900000000', #Maury\n",
    "            'CN4712500000000', #Montgomery\n",
    "            'CN4714700000000', #Robertson\n",
    "            'CN4714900000000', #Rutherford\n",
    "            'CN4716100000000', #Stewart\n",
    "            'CN4716500000000', #Sumner\n",
    "            'CN4716900000000', #Trousdale\n",
    "            'CN4718700000000', #Williamson\n",
    "            'CN4718900000000', \n",
    "            'CN2100300000000', #Allen (KY)\n",
    "            'CN2121300000000'] #Simpson (KY)]  #Wilson\n",
    "places = ['CT4708280000000', #Brentwood city, Tennessee: Williamson\n",
    "          'CT4715160000000', #Clarksville city, Tennessee: Montgomery\n",
    "          'CT4716540000000', #Columbia city, Tennessee: Maury\n",
    "          'CT4727740000000', #Franklin city, Tennessee: Williamson\n",
    "          'CT4728540000000', #Gallatin city, Tennessee: Sumner\n",
    "          'CT4733280000000', #Hendersonville city, Tennessee: Sumner\n",
    "          'CT4741200000000', #La Vergne city, Tennessee: Rutherford\n",
    "          'CT4741520000000', #Lebanon city, Tennessee: Wilson\n",
    "          'CT4750780000000', #Mount Juliet city, Tennessee: Wilson\n",
    "          'CT4751560000000', #Murfreesboro city, Tennessee: Rutherford\n",
    "          'CT4752004000000', #Nashville-Davidson metropolitan government (balance): Davidson\n",
    "          'CT4769420000000', #Smyrna town, Tennessee: Rutherford\n",
    "          'CT4770580000000'] #Spring Hill city, Tennessee: Maury/Williamson"
   ]
  },
  {
   "cell_type": "code",
   "execution_count": 35,
   "id": "93b8d29d",
   "metadata": {},
   "outputs": [],
   "source": [
    "geos = pd.read_csv('../../Data Downloads/geofips.csv')"
   ]
  },
  {
   "cell_type": "code",
   "execution_count": 36,
   "id": "46af58a4",
   "metadata": {},
   "outputs": [],
   "source": [
    "FIPSCounties = []\n",
    "for i in counties:\n",
    "    FIPSCounties.append('LAU{}03'.format(i))"
   ]
  },
  {
   "cell_type": "code",
   "execution_count": 37,
   "id": "bb709c4f",
   "metadata": {},
   "outputs": [],
   "source": [
    "FIPSPlaces = []\n",
    "for i in places:\n",
    "    FIPSPlaces.append('LAU{}03'.format(i))"
   ]
  },
  {
   "cell_type": "code",
   "execution_count": 38,
   "id": "07f06233",
   "metadata": {},
   "outputs": [],
   "source": [
    "dfco = get_laus(FIPSCounties, 2019, 2022)"
   ]
  },
  {
   "cell_type": "code",
   "execution_count": 39,
   "id": "ec73df67",
   "metadata": {},
   "outputs": [],
   "source": [
    "test = dfco['seriesID'].str.split(pat = 'CN', expand = True)\n",
    "test = test[1]\n",
    "test = test.str[:5]\n",
    "dfco['GEO_ID'] = '0500000US' + test"
   ]
  },
  {
   "cell_type": "code",
   "execution_count": 9,
   "id": "1f8ae793",
   "metadata": {},
   "outputs": [],
   "source": [
    "dfpl = get_laus(sFIPSPlaces, 2019, 2022)"
   ]
  },
  {
   "cell_type": "code",
   "execution_count": 10,
   "id": "1db061cf",
   "metadata": {},
   "outputs": [],
   "source": [
    "test = dfpl['seriesID'].str.split(pat = 'CT', expand = True)\n",
    "test = test[1]\n",
    "test = test.str[:7]\n",
    "dfpl['GEO_ID'] = '1600000US' + test"
   ]
  },
  {
   "cell_type": "code",
   "execution_count": 11,
   "id": "f1fea032",
   "metadata": {},
   "outputs": [],
   "source": [
    "df = dfco.append(dfpl)"
   ]
  },
  {
   "cell_type": "code",
   "execution_count": 12,
   "id": "84c1b523",
   "metadata": {},
   "outputs": [
    {
     "data": {
      "text/html": [
       "<div>\n",
       "<style scoped>\n",
       "    .dataframe tbody tr th:only-of-type {\n",
       "        vertical-align: middle;\n",
       "    }\n",
       "\n",
       "    .dataframe tbody tr th {\n",
       "        vertical-align: top;\n",
       "    }\n",
       "\n",
       "    .dataframe thead th {\n",
       "        text-align: right;\n",
       "    }\n",
       "</style>\n",
       "<table border=\"1\" class=\"dataframe\">\n",
       "  <thead>\n",
       "    <tr style=\"text-align: right;\">\n",
       "      <th></th>\n",
       "      <th>NAME</th>\n",
       "      <th>GEO_ID</th>\n",
       "    </tr>\n",
       "  </thead>\n",
       "  <tbody>\n",
       "    <tr>\n",
       "      <th>0</th>\n",
       "      <td>Cheatham County, Tennessee</td>\n",
       "      <td>0500000US47021</td>\n",
       "    </tr>\n",
       "    <tr>\n",
       "      <th>1</th>\n",
       "      <td>Davidson County, Tennessee</td>\n",
       "      <td>0500000US47037</td>\n",
       "    </tr>\n",
       "    <tr>\n",
       "      <th>2</th>\n",
       "      <td>Dickson County, Tennessee</td>\n",
       "      <td>0500000US47043</td>\n",
       "    </tr>\n",
       "    <tr>\n",
       "      <th>3</th>\n",
       "      <td>Houston County, Tennessee</td>\n",
       "      <td>0500000US47083</td>\n",
       "    </tr>\n",
       "    <tr>\n",
       "      <th>4</th>\n",
       "      <td>Humphreys County, Tennessee</td>\n",
       "      <td>0500000US47085</td>\n",
       "    </tr>\n",
       "  </tbody>\n",
       "</table>\n",
       "</div>"
      ],
      "text/plain": [
       "                          NAME          GEO_ID\n",
       "0   Cheatham County, Tennessee  0500000US47021\n",
       "1   Davidson County, Tennessee  0500000US47037\n",
       "2    Dickson County, Tennessee  0500000US47043\n",
       "3    Houston County, Tennessee  0500000US47083\n",
       "4  Humphreys County, Tennessee  0500000US47085"
      ]
     },
     "execution_count": 12,
     "metadata": {},
     "output_type": "execute_result"
    }
   ],
   "source": [
    "geos.head()"
   ]
  },
  {
   "cell_type": "code",
   "execution_count": 16,
   "id": "ec961df2",
   "metadata": {},
   "outputs": [],
   "source": [
    "df = df.merge(geos, how = 'inner')"
   ]
  },
  {
   "cell_type": "code",
   "execution_count": 20,
   "id": "810936cb",
   "metadata": {},
   "outputs": [],
   "source": [
    "df = df.drop(columns = ['latest', 'footnotes', 'seriesID'])"
   ]
  },
  {
   "cell_type": "code",
   "execution_count": 21,
   "id": "6c79603a",
   "metadata": {},
   "outputs": [
    {
     "data": {
      "text/html": [
       "<div>\n",
       "<style scoped>\n",
       "    .dataframe tbody tr th:only-of-type {\n",
       "        vertical-align: middle;\n",
       "    }\n",
       "\n",
       "    .dataframe tbody tr th {\n",
       "        vertical-align: top;\n",
       "    }\n",
       "\n",
       "    .dataframe thead th {\n",
       "        text-align: right;\n",
       "    }\n",
       "</style>\n",
       "<table border=\"1\" class=\"dataframe\">\n",
       "  <thead>\n",
       "    <tr style=\"text-align: right;\">\n",
       "      <th></th>\n",
       "      <th>year</th>\n",
       "      <th>period</th>\n",
       "      <th>periodName</th>\n",
       "      <th>value</th>\n",
       "      <th>GEO_ID</th>\n",
       "      <th>NAME</th>\n",
       "    </tr>\n",
       "  </thead>\n",
       "  <tbody>\n",
       "    <tr>\n",
       "      <th>1329</th>\n",
       "      <td>2019</td>\n",
       "      <td>M06</td>\n",
       "      <td>June</td>\n",
       "      <td>2.8</td>\n",
       "      <td>1600000US4770580</td>\n",
       "      <td>Spring Hill city, Tennessee</td>\n",
       "    </tr>\n",
       "    <tr>\n",
       "      <th>1330</th>\n",
       "      <td>2019</td>\n",
       "      <td>M05</td>\n",
       "      <td>May</td>\n",
       "      <td>2.3</td>\n",
       "      <td>1600000US4770580</td>\n",
       "      <td>Spring Hill city, Tennessee</td>\n",
       "    </tr>\n",
       "    <tr>\n",
       "      <th>1331</th>\n",
       "      <td>2019</td>\n",
       "      <td>M04</td>\n",
       "      <td>April</td>\n",
       "      <td>2.5</td>\n",
       "      <td>1600000US4770580</td>\n",
       "      <td>Spring Hill city, Tennessee</td>\n",
       "    </tr>\n",
       "    <tr>\n",
       "      <th>1332</th>\n",
       "      <td>2019</td>\n",
       "      <td>M03</td>\n",
       "      <td>March</td>\n",
       "      <td>2.6</td>\n",
       "      <td>1600000US4770580</td>\n",
       "      <td>Spring Hill city, Tennessee</td>\n",
       "    </tr>\n",
       "    <tr>\n",
       "      <th>1333</th>\n",
       "      <td>2019</td>\n",
       "      <td>M02</td>\n",
       "      <td>February</td>\n",
       "      <td>2.5</td>\n",
       "      <td>1600000US4770580</td>\n",
       "      <td>Spring Hill city, Tennessee</td>\n",
       "    </tr>\n",
       "  </tbody>\n",
       "</table>\n",
       "</div>"
      ],
      "text/plain": [
       "      year period periodName value            GEO_ID  \\\n",
       "1329  2019    M06       June   2.8  1600000US4770580   \n",
       "1330  2019    M05        May   2.3  1600000US4770580   \n",
       "1331  2019    M04      April   2.5  1600000US4770580   \n",
       "1332  2019    M03      March   2.6  1600000US4770580   \n",
       "1333  2019    M02   February   2.5  1600000US4770580   \n",
       "\n",
       "                             NAME  \n",
       "1329  Spring Hill city, Tennessee  \n",
       "1330  Spring Hill city, Tennessee  \n",
       "1331  Spring Hill city, Tennessee  \n",
       "1332  Spring Hill city, Tennessee  \n",
       "1333  Spring Hill city, Tennessee  "
      ]
     },
     "execution_count": 21,
     "metadata": {},
     "output_type": "execute_result"
    }
   ],
   "source": [
    "df.tail()"
   ]
  },
  {
   "cell_type": "code",
   "execution_count": 25,
   "id": "5f711328",
   "metadata": {},
   "outputs": [],
   "source": [
    "df_annual = df.loc[(df['periodName'] == 'Annual')&(df['year'] == '2021')].reset_index(drop = True)\n",
    "df_annual = df_annual.drop(columns = ['period', 'periodName']).rename(columns = {'year':'Year', 'value':'LAUS:Unemployment Rate'})"
   ]
  },
  {
   "cell_type": "code",
   "execution_count": 26,
   "id": "d2f3d61d",
   "metadata": {},
   "outputs": [
    {
     "data": {
      "text/html": [
       "<div>\n",
       "<style scoped>\n",
       "    .dataframe tbody tr th:only-of-type {\n",
       "        vertical-align: middle;\n",
       "    }\n",
       "\n",
       "    .dataframe tbody tr th {\n",
       "        vertical-align: top;\n",
       "    }\n",
       "\n",
       "    .dataframe thead th {\n",
       "        text-align: right;\n",
       "    }\n",
       "</style>\n",
       "<table border=\"1\" class=\"dataframe\">\n",
       "  <thead>\n",
       "    <tr style=\"text-align: right;\">\n",
       "      <th></th>\n",
       "      <th>Year</th>\n",
       "      <th>LAUS:Unemployment Rate</th>\n",
       "      <th>GEO_ID</th>\n",
       "      <th>NAME</th>\n",
       "    </tr>\n",
       "  </thead>\n",
       "  <tbody>\n",
       "    <tr>\n",
       "      <th>0</th>\n",
       "      <td>2021</td>\n",
       "      <td>3.1</td>\n",
       "      <td>0500000US47021</td>\n",
       "      <td>Cheatham County, Tennessee</td>\n",
       "    </tr>\n",
       "    <tr>\n",
       "      <th>1</th>\n",
       "      <td>2021</td>\n",
       "      <td>4.2</td>\n",
       "      <td>0500000US47037</td>\n",
       "      <td>Davidson County, Tennessee</td>\n",
       "    </tr>\n",
       "    <tr>\n",
       "      <th>2</th>\n",
       "      <td>2021</td>\n",
       "      <td>3.4</td>\n",
       "      <td>0500000US47043</td>\n",
       "      <td>Dickson County, Tennessee</td>\n",
       "    </tr>\n",
       "    <tr>\n",
       "      <th>3</th>\n",
       "      <td>2021</td>\n",
       "      <td>4.8</td>\n",
       "      <td>0500000US47083</td>\n",
       "      <td>Houston County, Tennessee</td>\n",
       "    </tr>\n",
       "    <tr>\n",
       "      <th>4</th>\n",
       "      <td>2021</td>\n",
       "      <td>3.9</td>\n",
       "      <td>0500000US47085</td>\n",
       "      <td>Humphreys County, Tennessee</td>\n",
       "    </tr>\n",
       "  </tbody>\n",
       "</table>\n",
       "</div>"
      ],
      "text/plain": [
       "   Year LAUS:Unemployment Rate          GEO_ID                         NAME\n",
       "0  2021                    3.1  0500000US47021   Cheatham County, Tennessee\n",
       "1  2021                    4.2  0500000US47037   Davidson County, Tennessee\n",
       "2  2021                    3.4  0500000US47043    Dickson County, Tennessee\n",
       "3  2021                    4.8  0500000US47083    Houston County, Tennessee\n",
       "4  2021                    3.9  0500000US47085  Humphreys County, Tennessee"
      ]
     },
     "execution_count": 26,
     "metadata": {},
     "output_type": "execute_result"
    }
   ],
   "source": [
    "df_annual.head()"
   ]
  },
  {
   "cell_type": "code",
   "execution_count": 27,
   "id": "7857e300",
   "metadata": {},
   "outputs": [],
   "source": [
    "df_monthly = df.loc[(df['periodName'] != 'Annual')].reset_index(drop = True)\n",
    "df_monthly = df_monthly.rename(columns = {'period':'Month', 'periodName': 'Month Name','year':'Year', 'value':'LAUS:Unemployment Rate'})"
   ]
  },
  {
   "cell_type": "code",
   "execution_count": 28,
   "id": "2275fc92",
   "metadata": {},
   "outputs": [],
   "source": [
    "df_monthly['Month'] = df_monthly['Month'].str.slice(start = 1).astype(float)"
   ]
  },
  {
   "cell_type": "code",
   "execution_count": 29,
   "id": "df7f9168",
   "metadata": {},
   "outputs": [
    {
     "data": {
      "text/html": [
       "<div>\n",
       "<style scoped>\n",
       "    .dataframe tbody tr th:only-of-type {\n",
       "        vertical-align: middle;\n",
       "    }\n",
       "\n",
       "    .dataframe tbody tr th {\n",
       "        vertical-align: top;\n",
       "    }\n",
       "\n",
       "    .dataframe thead th {\n",
       "        text-align: right;\n",
       "    }\n",
       "</style>\n",
       "<table border=\"1\" class=\"dataframe\">\n",
       "  <thead>\n",
       "    <tr style=\"text-align: right;\">\n",
       "      <th></th>\n",
       "      <th>Year</th>\n",
       "      <th>Month</th>\n",
       "      <th>Month Name</th>\n",
       "      <th>LAUS:Unemployment Rate</th>\n",
       "      <th>GEO_ID</th>\n",
       "      <th>NAME</th>\n",
       "    </tr>\n",
       "  </thead>\n",
       "  <tbody>\n",
       "    <tr>\n",
       "      <th>0</th>\n",
       "      <td>2022</td>\n",
       "      <td>8.0</td>\n",
       "      <td>August</td>\n",
       "      <td>2.5</td>\n",
       "      <td>0500000US47021</td>\n",
       "      <td>Cheatham County, Tennessee</td>\n",
       "    </tr>\n",
       "    <tr>\n",
       "      <th>1</th>\n",
       "      <td>2022</td>\n",
       "      <td>7.0</td>\n",
       "      <td>July</td>\n",
       "      <td>2.8</td>\n",
       "      <td>0500000US47021</td>\n",
       "      <td>Cheatham County, Tennessee</td>\n",
       "    </tr>\n",
       "    <tr>\n",
       "      <th>2</th>\n",
       "      <td>2022</td>\n",
       "      <td>6.0</td>\n",
       "      <td>June</td>\n",
       "      <td>3.2</td>\n",
       "      <td>0500000US47021</td>\n",
       "      <td>Cheatham County, Tennessee</td>\n",
       "    </tr>\n",
       "    <tr>\n",
       "      <th>3</th>\n",
       "      <td>2022</td>\n",
       "      <td>5.0</td>\n",
       "      <td>May</td>\n",
       "      <td>2.6</td>\n",
       "      <td>0500000US47021</td>\n",
       "      <td>Cheatham County, Tennessee</td>\n",
       "    </tr>\n",
       "    <tr>\n",
       "      <th>4</th>\n",
       "      <td>2022</td>\n",
       "      <td>4.0</td>\n",
       "      <td>April</td>\n",
       "      <td>2.5</td>\n",
       "      <td>0500000US47021</td>\n",
       "      <td>Cheatham County, Tennessee</td>\n",
       "    </tr>\n",
       "    <tr>\n",
       "      <th>5</th>\n",
       "      <td>2022</td>\n",
       "      <td>3.0</td>\n",
       "      <td>March</td>\n",
       "      <td>2.4</td>\n",
       "      <td>0500000US47021</td>\n",
       "      <td>Cheatham County, Tennessee</td>\n",
       "    </tr>\n",
       "    <tr>\n",
       "      <th>6</th>\n",
       "      <td>2022</td>\n",
       "      <td>2.0</td>\n",
       "      <td>February</td>\n",
       "      <td>2.5</td>\n",
       "      <td>0500000US47021</td>\n",
       "      <td>Cheatham County, Tennessee</td>\n",
       "    </tr>\n",
       "    <tr>\n",
       "      <th>7</th>\n",
       "      <td>2022</td>\n",
       "      <td>1.0</td>\n",
       "      <td>January</td>\n",
       "      <td>2.6</td>\n",
       "      <td>0500000US47021</td>\n",
       "      <td>Cheatham County, Tennessee</td>\n",
       "    </tr>\n",
       "    <tr>\n",
       "      <th>8</th>\n",
       "      <td>2021</td>\n",
       "      <td>12.0</td>\n",
       "      <td>December</td>\n",
       "      <td>2.3</td>\n",
       "      <td>0500000US47021</td>\n",
       "      <td>Cheatham County, Tennessee</td>\n",
       "    </tr>\n",
       "    <tr>\n",
       "      <th>9</th>\n",
       "      <td>2021</td>\n",
       "      <td>11.0</td>\n",
       "      <td>November</td>\n",
       "      <td>2.2</td>\n",
       "      <td>0500000US47021</td>\n",
       "      <td>Cheatham County, Tennessee</td>\n",
       "    </tr>\n",
       "  </tbody>\n",
       "</table>\n",
       "</div>"
      ],
      "text/plain": [
       "   Year  Month Month Name LAUS:Unemployment Rate          GEO_ID  \\\n",
       "0  2022    8.0     August                    2.5  0500000US47021   \n",
       "1  2022    7.0       July                    2.8  0500000US47021   \n",
       "2  2022    6.0       June                    3.2  0500000US47021   \n",
       "3  2022    5.0        May                    2.6  0500000US47021   \n",
       "4  2022    4.0      April                    2.5  0500000US47021   \n",
       "5  2022    3.0      March                    2.4  0500000US47021   \n",
       "6  2022    2.0   February                    2.5  0500000US47021   \n",
       "7  2022    1.0    January                    2.6  0500000US47021   \n",
       "8  2021   12.0   December                    2.3  0500000US47021   \n",
       "9  2021   11.0   November                    2.2  0500000US47021   \n",
       "\n",
       "                         NAME  \n",
       "0  Cheatham County, Tennessee  \n",
       "1  Cheatham County, Tennessee  \n",
       "2  Cheatham County, Tennessee  \n",
       "3  Cheatham County, Tennessee  \n",
       "4  Cheatham County, Tennessee  \n",
       "5  Cheatham County, Tennessee  \n",
       "6  Cheatham County, Tennessee  \n",
       "7  Cheatham County, Tennessee  \n",
       "8  Cheatham County, Tennessee  \n",
       "9  Cheatham County, Tennessee  "
      ]
     },
     "execution_count": 29,
     "metadata": {},
     "output_type": "execute_result"
    }
   ],
   "source": [
    "df_monthly.head(10)"
   ]
  },
  {
   "cell_type": "code",
   "execution_count": 30,
   "id": "9593c785",
   "metadata": {},
   "outputs": [],
   "source": [
    "df_annual.to_csv('../../Outputs/LAUSANNUAL.csv', index = False)"
   ]
  },
  {
   "cell_type": "code",
   "execution_count": 31,
   "id": "1d913a38",
   "metadata": {},
   "outputs": [],
   "source": [
    "df_monthly.to_csv('../../Outputs/LAUSMONTHLY.csv', index = False)"
   ]
  },
  {
   "cell_type": "code",
   "execution_count": null,
   "id": "4cd53ab9",
   "metadata": {},
   "outputs": [],
   "source": []
  }
 ],
 "metadata": {
  "kernelspec": {
   "display_name": "Python 3 (ipykernel)",
   "language": "python",
   "name": "python3"
  },
  "language_info": {
   "codemirror_mode": {
    "name": "ipython",
    "version": 3
   },
   "file_extension": ".py",
   "mimetype": "text/x-python",
   "name": "python",
   "nbconvert_exporter": "python",
   "pygments_lexer": "ipython3",
   "version": "3.8.5"
  }
 },
 "nbformat": 4,
 "nbformat_minor": 5
}
